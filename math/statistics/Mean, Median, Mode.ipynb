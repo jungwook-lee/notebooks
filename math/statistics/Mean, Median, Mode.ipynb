{
 "cells": [
  {
   "cell_type": "code",
   "execution_count": 28,
   "metadata": {},
   "outputs": [
    {
     "name": "stdout",
     "output_type": "stream",
     "text": [
      "[19, 19, 4, 10, 14, 14, 12, 18, 8, 6, 7, 8, 11, 20, 14, 18, 9, 19, 3, 4, 0, 15, 7, 3, 0, 8, 20, 13, 17, 8, 9, 18, 4, 7, 17, 3, 18, 9, 9, 13, 8, 10, 8, 6, 9, 3, 7, 19, 2, 4, 17, 18, 11, 17, 0, 10, 20, 13, 4, 15, 2, 0, 16, 5, 0, 4, 7, 19, 11, 9, 12, 2, 17, 14, 20, 6, 17, 7, 17, 18, 5, 13, 9, 18, 19, 15, 4, 11, 11, 19, 12, 7, 8, 20, 7, 13, 2, 2, 5, 8]\n"
     ]
    }
   ],
   "source": [
    "import random\n",
    "from collections import Counter\n",
    "\n",
    "rand_nums = [random.randint(0, 20) for _ in range(100)]\n",
    "print(rand_nums)"
   ]
  },
  {
   "cell_type": "code",
   "execution_count": 29,
   "metadata": {},
   "outputs": [
    {
     "name": "stdout",
     "output_type": "stream",
     "text": [
      "10.47\n"
     ]
    }
   ],
   "source": [
    "# mean is the average\n",
    "mean = sum(rand_nums)/len(rand_nums)\n",
    "print(mean)"
   ]
  },
  {
   "cell_type": "code",
   "execution_count": 31,
   "metadata": {},
   "outputs": [
    {
     "name": "stdout",
     "output_type": "stream",
     "text": [
      "10\n"
     ]
    }
   ],
   "source": [
    "# median is the middle value\n",
    "median = sorted(rand_nums)[len(rand_nums) // 2]\n",
    "print(median)"
   ]
  },
  {
   "cell_type": "code",
   "execution_count": 32,
   "metadata": {},
   "outputs": [
    {
     "name": "stdout",
     "output_type": "stream",
     "text": [
      "[(8, 8)]\n"
     ]
    }
   ],
   "source": [
    "# mode is the number that is repeated the most\n",
    "mode = Counter(rand_nums)\n",
    "print(mode.most_common(1))"
   ]
  }
 ],
 "metadata": {
  "kernelspec": {
   "display_name": "Python 3",
   "language": "python",
   "name": "python3"
  },
  "language_info": {
   "codemirror_mode": {
    "name": "ipython",
    "version": 3
   },
   "file_extension": ".py",
   "mimetype": "text/x-python",
   "name": "python",
   "nbconvert_exporter": "python",
   "pygments_lexer": "ipython3",
   "version": "3.7.4"
  }
 },
 "nbformat": 4,
 "nbformat_minor": 2
}
